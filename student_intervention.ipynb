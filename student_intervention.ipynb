{
 "cells": [
  {
   "cell_type": "markdown",
   "metadata": {},
   "source": [
    "# Machine Learning Engineer Nanodegree\n",
    "## Supervised Learning\n",
    "## Project 2: Building a Student Intervention System"
   ]
  },
  {
   "cell_type": "markdown",
   "metadata": {},
   "source": [
    "Welcome to the second project of the Machine Learning Engineer Nanodegree! In this notebook, some template code has already been provided for you, and it will be your job to implement the additional functionality necessary to successfully complete this project. Sections that begin with **'Implementation'** in the header indicate that the following block of code will require additional functionality which you must provide. Instructions will be provided for each section and the specifics of the implementation are marked in the code block with a `'TODO'` statement. Please be sure to read the instructions carefully!\n",
    "\n",
    "In addition to implementing code, there will be questions that you must answer which relate to the project and your implementation. Each section where you will answer a question is preceded by a **'Question X'** header. Carefully read each question and provide thorough answers in the following text boxes that begin with **'Answer:'**. Your project submission will be evaluated based on your answers to each of the questions and the implementation you provide.  \n",
    "\n",
    ">**Note:** Code and Markdown cells can be executed using the **Shift + Enter** keyboard shortcut. In addition, Markdown cells can be edited by typically double-clicking the cell to enter edit mode."
   ]
  },
  {
   "cell_type": "markdown",
   "metadata": {},
   "source": [
    "### Question 1 - Classification vs. Regression\n",
    "*Your goal for this project is to identify students who might need early intervention before they fail to graduate. Which type of supervised learning problem is this, classification or regression? Why?*"
   ]
  },
  {
   "cell_type": "markdown",
   "metadata": {},
   "source": [
    "**Answer: **\n",
    "\n",
    "Our goal is identify students likely to not graduate (or to graduate), and hopefully provide aid (intervention) to these students to help them graduate. Therefore, we want to design a model that learns on our current data where the target attribute is whether or not a student graduates. That is, we want to build a learner that predicts a discrete output space which is [graduate, not graduate]. Because the model we want to build labels a discrete output, we are building a classification model and in this case it is a binary classification model (i.e. just two labels, or said another way two possible values in the target variable).\n",
    "\n",
    "<b>Extra Info</b> \n",
    "\n",
    "Classification is when we are predicting a discrete output set. Examples include: predicting wheter or not a cat is in a set of pictures (yes/no), labeling a picture 1 of n labels, predicting whether or not a person is high risk for a diesease, etc. As we can see the key is the target attribute/label is a discrete set.\n",
    "\n",
    "Regression is when we are predicting a continous output space. Examples include: predicting the price of a house, predicting the age a person will die (assuming we are using a contiounous age i.e. 70.237 years), etc. As we can see the key is the target attribute/label is a continous space. \n",
    "\n"
   ]
  },
  {
   "cell_type": "markdown",
   "metadata": {},
   "source": [
    "## Exploring the Data\n",
    "Run the code cell below to load necessary Python libraries and load the student data. Note that the last column from this dataset, `'passed'`, will be our target label (whether the student graduated or didn't graduate). All other columns are features about each student."
   ]
  },
  {
   "cell_type": "code",
   "execution_count": 1,
   "metadata": {
    "collapsed": false
   },
   "outputs": [
    {
     "name": "stdout",
     "output_type": "stream",
     "text": [
      "Student data read successfully!\n"
     ]
    }
   ],
   "source": [
    "# Import libraries\n",
    "import numpy as np\n",
    "import pandas as pd\n",
    "from time import time\n",
    "from sklearn.metrics import f1_score\n",
    "\n",
    "# Read student data\n",
    "student_data = pd.read_csv(\"student-data.csv\")\n",
    "print \"Student data read successfully!\""
   ]
  },
  {
   "cell_type": "markdown",
   "metadata": {},
   "source": [
    "### Implementation: Data Exploration\n",
    "Let's begin by investigating the dataset to determine how many students we have information on, and learn about the graduation rate among these students. In the code cell below, you will need to compute the following:\n",
    "- The total number of students, `n_students`.\n",
    "- The total number of features for each student, `n_features`.\n",
    "- The number of those students who passed, `n_passed`.\n",
    "- The number of those students who failed, `n_failed`.\n",
    "- The graduation rate of the class, `grad_rate`, in percent (%).\n"
   ]
  },
  {
   "cell_type": "code",
   "execution_count": 2,
   "metadata": {
    "collapsed": false
   },
   "outputs": [
    {
     "data": {
      "text/html": [
       "<div>\n",
       "<table border=\"1\" class=\"dataframe\">\n",
       "  <thead>\n",
       "    <tr style=\"text-align: right;\">\n",
       "      <th></th>\n",
       "      <th>school</th>\n",
       "      <th>sex</th>\n",
       "      <th>age</th>\n",
       "      <th>address</th>\n",
       "      <th>famsize</th>\n",
       "      <th>Pstatus</th>\n",
       "      <th>Medu</th>\n",
       "      <th>Fedu</th>\n",
       "      <th>Mjob</th>\n",
       "      <th>Fjob</th>\n",
       "      <th>...</th>\n",
       "      <th>internet</th>\n",
       "      <th>romantic</th>\n",
       "      <th>famrel</th>\n",
       "      <th>freetime</th>\n",
       "      <th>goout</th>\n",
       "      <th>Dalc</th>\n",
       "      <th>Walc</th>\n",
       "      <th>health</th>\n",
       "      <th>absences</th>\n",
       "      <th>passed</th>\n",
       "    </tr>\n",
       "  </thead>\n",
       "  <tbody>\n",
       "    <tr>\n",
       "      <th>0</th>\n",
       "      <td>GP</td>\n",
       "      <td>F</td>\n",
       "      <td>18</td>\n",
       "      <td>U</td>\n",
       "      <td>GT3</td>\n",
       "      <td>A</td>\n",
       "      <td>4</td>\n",
       "      <td>4</td>\n",
       "      <td>at_home</td>\n",
       "      <td>teacher</td>\n",
       "      <td>...</td>\n",
       "      <td>no</td>\n",
       "      <td>no</td>\n",
       "      <td>4</td>\n",
       "      <td>3</td>\n",
       "      <td>4</td>\n",
       "      <td>1</td>\n",
       "      <td>1</td>\n",
       "      <td>3</td>\n",
       "      <td>6</td>\n",
       "      <td>no</td>\n",
       "    </tr>\n",
       "    <tr>\n",
       "      <th>1</th>\n",
       "      <td>GP</td>\n",
       "      <td>F</td>\n",
       "      <td>17</td>\n",
       "      <td>U</td>\n",
       "      <td>GT3</td>\n",
       "      <td>T</td>\n",
       "      <td>1</td>\n",
       "      <td>1</td>\n",
       "      <td>at_home</td>\n",
       "      <td>other</td>\n",
       "      <td>...</td>\n",
       "      <td>yes</td>\n",
       "      <td>no</td>\n",
       "      <td>5</td>\n",
       "      <td>3</td>\n",
       "      <td>3</td>\n",
       "      <td>1</td>\n",
       "      <td>1</td>\n",
       "      <td>3</td>\n",
       "      <td>4</td>\n",
       "      <td>no</td>\n",
       "    </tr>\n",
       "    <tr>\n",
       "      <th>2</th>\n",
       "      <td>GP</td>\n",
       "      <td>F</td>\n",
       "      <td>15</td>\n",
       "      <td>U</td>\n",
       "      <td>LE3</td>\n",
       "      <td>T</td>\n",
       "      <td>1</td>\n",
       "      <td>1</td>\n",
       "      <td>at_home</td>\n",
       "      <td>other</td>\n",
       "      <td>...</td>\n",
       "      <td>yes</td>\n",
       "      <td>no</td>\n",
       "      <td>4</td>\n",
       "      <td>3</td>\n",
       "      <td>2</td>\n",
       "      <td>2</td>\n",
       "      <td>3</td>\n",
       "      <td>3</td>\n",
       "      <td>10</td>\n",
       "      <td>yes</td>\n",
       "    </tr>\n",
       "    <tr>\n",
       "      <th>3</th>\n",
       "      <td>GP</td>\n",
       "      <td>F</td>\n",
       "      <td>15</td>\n",
       "      <td>U</td>\n",
       "      <td>GT3</td>\n",
       "      <td>T</td>\n",
       "      <td>4</td>\n",
       "      <td>2</td>\n",
       "      <td>health</td>\n",
       "      <td>services</td>\n",
       "      <td>...</td>\n",
       "      <td>yes</td>\n",
       "      <td>yes</td>\n",
       "      <td>3</td>\n",
       "      <td>2</td>\n",
       "      <td>2</td>\n",
       "      <td>1</td>\n",
       "      <td>1</td>\n",
       "      <td>5</td>\n",
       "      <td>2</td>\n",
       "      <td>yes</td>\n",
       "    </tr>\n",
       "    <tr>\n",
       "      <th>4</th>\n",
       "      <td>GP</td>\n",
       "      <td>F</td>\n",
       "      <td>16</td>\n",
       "      <td>U</td>\n",
       "      <td>GT3</td>\n",
       "      <td>T</td>\n",
       "      <td>3</td>\n",
       "      <td>3</td>\n",
       "      <td>other</td>\n",
       "      <td>other</td>\n",
       "      <td>...</td>\n",
       "      <td>no</td>\n",
       "      <td>no</td>\n",
       "      <td>4</td>\n",
       "      <td>3</td>\n",
       "      <td>2</td>\n",
       "      <td>1</td>\n",
       "      <td>2</td>\n",
       "      <td>5</td>\n",
       "      <td>4</td>\n",
       "      <td>yes</td>\n",
       "    </tr>\n",
       "  </tbody>\n",
       "</table>\n",
       "<p>5 rows × 31 columns</p>\n",
       "</div>"
      ],
      "text/plain": [
       "  school sex  age address famsize Pstatus  Medu  Fedu     Mjob      Fjob  \\\n",
       "0     GP   F   18       U     GT3       A     4     4  at_home   teacher   \n",
       "1     GP   F   17       U     GT3       T     1     1  at_home     other   \n",
       "2     GP   F   15       U     LE3       T     1     1  at_home     other   \n",
       "3     GP   F   15       U     GT3       T     4     2   health  services   \n",
       "4     GP   F   16       U     GT3       T     3     3    other     other   \n",
       "\n",
       "   ...   internet romantic  famrel  freetime  goout Dalc Walc health absences  \\\n",
       "0  ...         no       no       4         3      4    1    1      3        6   \n",
       "1  ...        yes       no       5         3      3    1    1      3        4   \n",
       "2  ...        yes       no       4         3      2    2    3      3       10   \n",
       "3  ...        yes      yes       3         2      2    1    1      5        2   \n",
       "4  ...         no       no       4         3      2    1    2      5        4   \n",
       "\n",
       "  passed  \n",
       "0     no  \n",
       "1     no  \n",
       "2    yes  \n",
       "3    yes  \n",
       "4    yes  \n",
       "\n",
       "[5 rows x 31 columns]"
      ]
     },
     "execution_count": 2,
     "metadata": {},
     "output_type": "execute_result"
    }
   ],
   "source": [
    "#print table head\n",
    "student_data.head()"
   ]
  },
  {
   "cell_type": "code",
   "execution_count": 3,
   "metadata": {
    "collapsed": false
   },
   "outputs": [
    {
     "name": "stdout",
     "output_type": "stream",
     "text": [
      "31\n",
      "['school' 'sex' 'age' 'address' 'famsize' 'Pstatus' 'Medu' 'Fedu' 'Mjob'\n",
      " 'Fjob' 'reason' 'guardian' 'traveltime' 'studytime' 'failures' 'schoolsup'\n",
      " 'famsup' 'paid' 'activities' 'nursery' 'higher' 'internet' 'romantic'\n",
      " 'famrel' 'freetime' 'goout' 'Dalc' 'Walc' 'health' 'absences' 'passed']\n"
     ]
    }
   ],
   "source": [
    "#print num of col and column names (want to see features)\n",
    "print len(student_data.columns.values)\n",
    "print student_data.columns.values"
   ]
  },
  {
   "cell_type": "code",
   "execution_count": 4,
   "metadata": {
    "collapsed": false
   },
   "outputs": [
    {
     "name": "stdout",
     "output_type": "stream",
     "text": [
      "Total number of students: 395\n",
      "Number of features: 30\n",
      "Number of students who passed: 265\n",
      "Number of students who failed: 130\n",
      "Graduation rate of the class: 67.09%\n"
     ]
    }
   ],
   "source": [
    "# TODO: Calculate number of students\n",
    "n_students = len(student_data)\n",
    "\n",
    "# TODO: Calculate number of features\n",
    "n_features = len(student_data.columns.values)-1\n",
    "\n",
    "# TODO: Calculate passing students\n",
    "n_passed = len(student_data[(student_data.passed == 'yes') ])\n",
    "\n",
    "# TODO: Calculate failing students\n",
    "n_failed = len(student_data[(student_data.passed == 'no') ])\n",
    "\n",
    "# TODO: Calculate graduation rate\n",
    "grad_rate = float(n_passed)/n_students*100\n",
    "\n",
    "# Print the results\n",
    "print \"Total number of students: {}\".format(n_students)\n",
    "print \"Number of features: {}\".format(n_features)\n",
    "print \"Number of students who passed: {}\".format(n_passed)\n",
    "print \"Number of students who failed: {}\".format(n_failed)\n",
    "print \"Graduation rate of the class: {:.2f}%\".format(grad_rate)"
   ]
  },
  {
   "cell_type": "markdown",
   "metadata": {},
   "source": [
    "## Preparing the Data\n",
    "In this section, we will prepare the data for modeling, training and testing.\n",
    "\n",
    "### Identify feature and target columns\n",
    "It is often the case that the data you obtain contains non-numeric features. This can be a problem, as most machine learning algorithms expect numeric data to perform computations with.\n",
    "\n",
    "Run the code cell below to separate the student data into feature and target columns to see if any features are non-numeric."
   ]
  },
  {
   "cell_type": "code",
   "execution_count": 5,
   "metadata": {
    "collapsed": false
   },
   "outputs": [
    {
     "name": "stdout",
     "output_type": "stream",
     "text": [
      "Feature columns:\n",
      "['school', 'sex', 'age', 'address', 'famsize', 'Pstatus', 'Medu', 'Fedu', 'Mjob', 'Fjob', 'reason', 'guardian', 'traveltime', 'studytime', 'failures', 'schoolsup', 'famsup', 'paid', 'activities', 'nursery', 'higher', 'internet', 'romantic', 'famrel', 'freetime', 'goout', 'Dalc', 'Walc', 'health', 'absences']\n",
      "\n",
      "Target column: passed\n",
      "\n",
      "Feature values:\n",
      "  school sex  age address famsize Pstatus  Medu  Fedu     Mjob      Fjob  \\\n",
      "0     GP   F   18       U     GT3       A     4     4  at_home   teacher   \n",
      "1     GP   F   17       U     GT3       T     1     1  at_home     other   \n",
      "2     GP   F   15       U     LE3       T     1     1  at_home     other   \n",
      "3     GP   F   15       U     GT3       T     4     2   health  services   \n",
      "4     GP   F   16       U     GT3       T     3     3    other     other   \n",
      "\n",
      "    ...    higher internet  romantic  famrel  freetime goout Dalc Walc health  \\\n",
      "0   ...       yes       no        no       4         3     4    1    1      3   \n",
      "1   ...       yes      yes        no       5         3     3    1    1      3   \n",
      "2   ...       yes      yes        no       4         3     2    2    3      3   \n",
      "3   ...       yes      yes       yes       3         2     2    1    1      5   \n",
      "4   ...       yes       no        no       4         3     2    1    2      5   \n",
      "\n",
      "  absences  \n",
      "0        6  \n",
      "1        4  \n",
      "2       10  \n",
      "3        2  \n",
      "4        4  \n",
      "\n",
      "[5 rows x 30 columns]\n"
     ]
    }
   ],
   "source": [
    "# Extract feature columns\n",
    "feature_cols = list(student_data.columns[:-1])\n",
    "\n",
    "# Extract target column 'passed'\n",
    "target_col = student_data.columns[-1] \n",
    "\n",
    "# Show the list of columns\n",
    "print \"Feature columns:\\n{}\".format(feature_cols)\n",
    "print \"\\nTarget column: {}\".format(target_col)\n",
    "\n",
    "# Separate the data into feature data and target data (X_all and y_all, respectively)\n",
    "X_all = student_data[feature_cols]\n",
    "y_all = student_data[target_col]\n",
    "\n",
    "# Show the feature information by printing the first five rows\n",
    "print \"\\nFeature values:\"\n",
    "print X_all.head()"
   ]
  },
  {
   "cell_type": "markdown",
   "metadata": {},
   "source": [
    "### Preprocess Feature Columns\n",
    "\n",
    "As you can see, there are several non-numeric columns that need to be converted! Many of them are simply `yes`/`no`, e.g. `internet`. These can be reasonably converted into `1`/`0` (binary) values.\n",
    "\n",
    "Other columns, like `Mjob` and `Fjob`, have more than two values, and are known as _categorical variables_. The recommended way to handle such a column is to create as many columns as possible values (e.g. `Fjob_teacher`, `Fjob_other`, `Fjob_services`, etc.), and assign a `1` to one of them and `0` to all others.\n",
    "\n",
    "These generated columns are sometimes called _dummy variables_, and we will use the [`pandas.get_dummies()`](http://pandas.pydata.org/pandas-docs/stable/generated/pandas.get_dummies.html?highlight=get_dummies#pandas.get_dummies) function to perform this transformation. Run the code cell below to perform the preprocessing routine discussed in this section."
   ]
  },
  {
   "cell_type": "code",
   "execution_count": 6,
   "metadata": {
    "collapsed": false
   },
   "outputs": [
    {
     "name": "stdout",
     "output_type": "stream",
     "text": [
      "Processed feature columns (48 total features):\n",
      "['school_GP', 'school_MS', 'sex_F', 'sex_M', 'age', 'address_R', 'address_U', 'famsize_GT3', 'famsize_LE3', 'Pstatus_A', 'Pstatus_T', 'Medu', 'Fedu', 'Mjob_at_home', 'Mjob_health', 'Mjob_other', 'Mjob_services', 'Mjob_teacher', 'Fjob_at_home', 'Fjob_health', 'Fjob_other', 'Fjob_services', 'Fjob_teacher', 'reason_course', 'reason_home', 'reason_other', 'reason_reputation', 'guardian_father', 'guardian_mother', 'guardian_other', 'traveltime', 'studytime', 'failures', 'schoolsup', 'famsup', 'paid', 'activities', 'nursery', 'higher', 'internet', 'romantic', 'famrel', 'freetime', 'goout', 'Dalc', 'Walc', 'health', 'absences']\n"
     ]
    }
   ],
   "source": [
    "def preprocess_features(X):\n",
    "    ''' Preprocesses the student data and converts non-numeric binary variables into\n",
    "        binary (0/1) variables. Converts categorical variables into dummy variables. '''\n",
    "    \n",
    "    # Initialize new output DataFrame\n",
    "    output = pd.DataFrame(index = X.index)\n",
    "\n",
    "    # Investigate each feature column for the data\n",
    "    for col, col_data in X.iteritems():\n",
    "        \n",
    "        # If data type is non-numeric, replace all yes/no values with 1/0\n",
    "        if col_data.dtype == object:\n",
    "            col_data = col_data.replace(['yes', 'no'], [1, 0])\n",
    "\n",
    "        # If data type is categorical, convert to dummy variables\n",
    "        if col_data.dtype == object:\n",
    "            # Example: 'school' => 'school_GP' and 'school_MS'\n",
    "            col_data = pd.get_dummies(col_data, prefix = col)  \n",
    "        \n",
    "        # Collect the revised columns\n",
    "        output = output.join(col_data)\n",
    "    \n",
    "    return output\n",
    "\n",
    "X_all = preprocess_features(X_all)\n",
    "print \"Processed feature columns ({} total features):\\n{}\".format(len(X_all.columns), list(X_all.columns))"
   ]
  },
  {
   "cell_type": "code",
   "execution_count": 7,
   "metadata": {
    "collapsed": false
   },
   "outputs": [
    {
     "name": "stdout",
     "output_type": "stream",
     "text": [
      "\n",
      "Feature values:\n",
      "   school_GP  school_MS  sex_F  sex_M  age  address_R  address_U  famsize_GT3  \\\n",
      "0        1.0        0.0    1.0    0.0   18        0.0        1.0          1.0   \n",
      "1        1.0        0.0    1.0    0.0   17        0.0        1.0          1.0   \n",
      "2        1.0        0.0    1.0    0.0   15        0.0        1.0          0.0   \n",
      "3        1.0        0.0    1.0    0.0   15        0.0        1.0          1.0   \n",
      "4        1.0        0.0    1.0    0.0   16        0.0        1.0          1.0   \n",
      "\n",
      "   famsize_LE3  Pstatus_A    ...     higher  internet  romantic  famrel  \\\n",
      "0          0.0        1.0    ...          1         0         0       4   \n",
      "1          0.0        0.0    ...          1         1         0       5   \n",
      "2          1.0        0.0    ...          1         1         0       4   \n",
      "3          0.0        0.0    ...          1         1         1       3   \n",
      "4          0.0        0.0    ...          1         0         0       4   \n",
      "\n",
      "   freetime  goout  Dalc  Walc  health  absences  \n",
      "0         3      4     1     1       3         6  \n",
      "1         3      3     1     1       3         4  \n",
      "2         3      2     2     3       3        10  \n",
      "3         2      2     1     1       5         2  \n",
      "4         3      2     1     2       5         4  \n",
      "\n",
      "[5 rows x 48 columns]\n"
     ]
    }
   ],
   "source": [
    "# Show the feature information by printing the first five rows\n",
    "print \"\\nFeature values:\"\n",
    "print X_all.head()"
   ]
  },
  {
   "cell_type": "code",
   "execution_count": 8,
   "metadata": {
    "collapsed": false
   },
   "outputs": [
    {
     "data": {
      "text/plain": [
       "count     395\n",
       "unique      2\n",
       "top       yes\n",
       "freq      265\n",
       "Name: passed, dtype: object"
      ]
     },
     "execution_count": 8,
     "metadata": {},
     "output_type": "execute_result"
    }
   ],
   "source": [
    "#sum stats on yes all\n",
    "y_all.describe()"
   ]
  },
  {
   "cell_type": "markdown",
   "metadata": {},
   "source": [
    "### Implementation: Training and Testing Data Split\n",
    "So far, we have converted all _categorical_ features into numeric values. For the next step, we split the data (both features and corresponding labels) into training and test sets. In the following code cell below, you will need to implement the following:\n",
    "- Randomly shuffle and split the data (`X_all`, `y_all`) into training and testing subsets.\n",
    "  - Use 300 training points (approximately 75%) and 95 testing points (approximately 25%).\n",
    "  - Set a `random_state` for the function(s) you use, if provided.\n",
    "  - Store the results in `X_train`, `X_test`, `y_train`, and `y_test`."
   ]
  },
  {
   "cell_type": "code",
   "execution_count": 8,
   "metadata": {
    "collapsed": false
   },
   "outputs": [
    {
     "name": "stdout",
     "output_type": "stream",
     "text": [
      "Training set has 300 samples.\n",
      "Testing set has 95 samples.\n"
     ]
    }
   ],
   "source": [
    "#import function to Split arrays or matrices into random train and test subsets \n",
    "from sklearn.cross_validation import train_test_split\n",
    "\n",
    "#  Set the number of training points\n",
    "num_train = 300\n",
    "\n",
    "# Set the number of testing points\n",
    "num_test = X_all.shape[0] - num_train\n",
    "\n",
    "# Shuffle and split the dataset into the number of training and testing points above\n",
    "#note if train_size is int and specified, test size is set to complment auto if unspecified\n",
    "X_train, X_test, y_train, y_test = train_test_split(X_all, y_all, \n",
    "                                                    train_size=num_train, random_state=10)\n",
    "\n",
    "\n",
    "# Show the results of the split\n",
    "print \"Training set has {} samples.\".format(X_train.shape[0])\n",
    "print \"Testing set has {} samples.\".format(X_test.shape[0])"
   ]
  },
  {
   "cell_type": "code",
   "execution_count": 9,
   "metadata": {
    "collapsed": false
   },
   "outputs": [
    {
     "data": {
      "text/plain": [
       "count     300\n",
       "unique      2\n",
       "top       yes\n",
       "freq      199\n",
       "Name: passed, dtype: object"
      ]
     },
     "execution_count": 9,
     "metadata": {},
     "output_type": "execute_result"
    }
   ],
   "source": [
    "#get sum stats for y_train\n",
    "y_train.describe()"
   ]
  },
  {
   "cell_type": "code",
   "execution_count": 10,
   "metadata": {
    "collapsed": false
   },
   "outputs": [
    {
     "data": {
      "text/plain": [
       "count      95\n",
       "unique      2\n",
       "top       yes\n",
       "freq       66\n",
       "Name: passed, dtype: object"
      ]
     },
     "execution_count": 10,
     "metadata": {},
     "output_type": "execute_result"
    }
   ],
   "source": [
    "#get sum stats for y_train\n",
    "y_test.describe()"
   ]
  },
  {
   "cell_type": "markdown",
   "metadata": {},
   "source": [
    "## Training and Evaluating Models\n",
    "In this section, you will choose 3 supervised learning models that are appropriate for this problem and available in `scikit-learn`. You will first discuss the reasoning behind choosing these three models by considering what you know about the data and each model's strengths and weaknesses. You will then fit the model to varying sizes of training data (100 data points, 200 data points, and 300 data points) and measure the F<sub>1</sub> score. You will need to produce three tables (one for each model) that shows the training set size, training time, prediction time, F<sub>1</sub> score on the training set, and F<sub>1</sub> score on the testing set."
   ]
  },
  {
   "cell_type": "markdown",
   "metadata": {},
   "source": [
    "### Question 2 - Model Application\n",
    "*List three supervised learning models that are appropriate for this problem. What are the general applications of each model? What are their strengths and weaknesses? Given what you know about the data, why did you choose these models to be applied?*"
   ]
  },
  {
   "cell_type": "markdown",
   "metadata": {},
   "source": [
    "**Answer: ** \n",
    "Before Beginning, I notice that there's more examples of graduating than not. Because of this, it is important to note that we will want to have weights on the classes inversely proportional to class frequencies. This is especially true, because we especially care about the class label we see less of: not graduating. If we run models without class wieghts, we may get good accuracy or good f_1 scores, but we could definetly have this come about just because we do well labeling the graduating class (i.e. just getting the graduating class right would be 67% Acc). Anyway, all models will be run with class weight=“balanced”. I, also, add Accuracy and confusion matrix to model output in the following section. I would like to tell you before hand that it will be important to look at the confusion matrix's upper left quadrant because this value will tell you how many observations in the test set are correctly labeled as not graduating, which is the class we care about. Remember, we want to intervene to help students likely to not graduate graduate. We can afford (to some degree) to mislabel those graduating as not as long as we can catch a suffiecent amount of those that actually wouldn't graduate. The only thing loss by intervening with people who will graduate anyway is some lost man hours. \n",
    "\n",
    "\n",
    "<b>1 Logistic Regression </b>\n",
    "Overall, logistic regression maps a point x in d-dimensional feature space to \n",
    "a value in the range 0 to 1. We can interpret prediction from a logistic regression \n",
    "model as: A probability of class membership/a class assignment by applying threshold to probaility. Note: the threshold represents a decision boundary in feature space. \n",
    "\n",
    "<b>General Applications:</b>\n",
    "Used to model dichotomous outcomes. We seea lot of logistic regression in the social sciences because the coeffiecients on the features can tell us something about the importance of the factor in predicting the outcome. Two examples examples are: Identifying factors of importance for winning an election; as in this case, we could focus in on what features are important to predicting dropouts. Along with this, you can obviosly just use logit for prediction purposes (however, in academina, the focus is usually causality and not prediction).\n",
    "\n",
    "<OL>\n",
    "<LI>Advantages\n",
    "<UL>\n",
    "<LI>Quick to train\n",
    "<LI>Very fast at classifying unknown records\n",
    "<LI>Good accuracy for many simple data sets\n",
    "<LI>Resistant to overfitting\n",
    "</UL>\n",
    "<LI>Disadvantages\n",
    "<UL>\n",
    "<LI>Linear Decision Boundary\n",
    "</UL>\n",
    "</OL>\n",
    "\n",
    "<b> Why Used:</b>\n",
    "The data's features is a combination of binary and interger ranges. Loigistic regession is fast and simple, and seems like a good place to get a basic understanding of how a learner may fit it. Because a logistic regression only produces one line/hyperplace it will let you know rather fast if a nonlinear seprator or combination of linear seperators would be needed.\n",
    "\n",
    "<b>2 Decision Tree   </b>\n",
    "The idea is to add rules to split data into groups that add information. The process leaves linear boundaries on the feature the rule is related to. \n",
    "\n",
    "<b>General Applications:</b>\n",
    "Decision trees can be used almost anywhere as long as you understand there limitations. But one area where they work well is in the business world. The simple nature of explaining how a decision tree works makes it an easy sell to less technical managers. An example is: Predicting trial users likely to become customers based on simple usage questions. I will also note (A bit tangential, but I mention it anyway) that tree ensembles are very popular right now. XGBoost (a boosted tree algorithm) is performing very well across most Kaggle competitions.\n",
    "\n",
    "<OL>\n",
    "<LI>Advantages\n",
    "<UL>\n",
    "<LI>Decision trees implicitly perform feature selection (feature engineering)\n",
    "<LI>Requires little effort for data preparing (if using regression may to scale numerical features, not needed here)\n",
    "<LI>No assumptions of linearity in the data is needed\n",
    "<LI>Easy to interpret and explain\n",
    "</UL>\n",
    "<LI>Disadvantages\n",
    "<UL>\n",
    "<LI>Prone to overfitting\n",
    "<LI>Large decision trees can be costly to calculate\n",
    "</UL>\n",
    "</OL>\n",
    "\n",
    "<b> Why Used:</b>\n",
    "After using a single linear seperator (that is the logit) on the data. I thought the data may lend itself well to a bunch of linear seperators (which makes it non linear) because there is a lot of binary data. \n",
    "\n",
    "<b>3 Support Vector Machines </b>\n",
    "\n",
    "SVMs are a supervised learning algorithm that can be use for classification or regression. The idea is to create a hyperplane/s that can seperate data into groups by maximizing the margin (distance between closest points to hyperplane on both sides). The algorithm can either use a hard or soft margin, where soft margin means it can handle nonlinearly seprable data by allowing errors. Also SVM can create nonlinear seperation by using a kernel trick (i.e. mapping features to new features with a kernel function, which brings the problem to a higher dimension that than allows hyperplane seperation in that dimension).\n",
    "\n",
    "<b>General Applications:</b>\n",
    "\n",
    "SVMs seem to be used on various real world problems. Some  areas it is popular and performing well are: image recognition and biological sciences. In image recognition, popular uses are: predicting image labels and labeling hand written letters. In biological science: classifying protiens is very promising. \n",
    "\n",
    "<OL>\n",
    "<LI>Advantages\n",
    "<UL>\n",
    "<LI>Kernel trick let's you easily incorporate domain knowledge\n",
    "<LI>Can help aleiviate overfitting with regularization\n",
    "<LI>Can handle high dimentions easily\n",
    "</UL>\n",
    "<LI>Disadvantages\n",
    "<UL>\n",
    "<LI>Speed and Size (Meaning large data causes problems, cubic time)\n",
    "<LI>Doesn't handle noise well\n",
    "</UL>\n",
    "</OL>\n",
    "\n",
    "<b> Why Used:</b>\n",
    "I chose SVM because the data set seems small for the amount of features. SVMs seem to do well with large features and because the dataset is small, time will not be an issue. "
   ]
  },
  {
   "cell_type": "markdown",
   "metadata": {},
   "source": [
    "### Setup\n",
    "Run the code cell below to initialize three helper functions which you can use for training and testing the three supervised learning models you've chosen above. The functions are as follows:\n",
    "- `train_classifier` - takes as input a classifier and training data and fits the classifier to the data.\n",
    "- `predict_labels` - takes as input a fit classifier, features, and a target labeling and makes predictions using the F<sub>1</sub> score.\n",
    "- `train_predict` - takes as input a classifier, and the training and testing data, and performs `train_clasifier` and `predict_labels`.\n",
    " - This function will report the F<sub>1</sub> score for both the training and testing data separately."
   ]
  },
  {
   "cell_type": "code",
   "execution_count": 11,
   "metadata": {
    "collapsed": false
   },
   "outputs": [],
   "source": [
    "def train_classifier(clf, X_train, y_train):\n",
    "    ''' Fits a classifier to the training data. '''\n",
    "    \n",
    "    # Start the clock, train the classifier, then stop the clock\n",
    "    start = time()\n",
    "    clf.fit(X_train, y_train)\n",
    "    end = time()\n",
    "    \n",
    "    # Print the results\n",
    "    print \"Trained model in {:.4f} seconds\".format(end - start)\n",
    "\n",
    "    \n",
    "def predict_labels(clf, features, target):\n",
    "    ''' Makes predictions using a fit classifier based on F1 score. '''\n",
    "    \n",
    "    # Start the clock, make predictions, then stop the clock\n",
    "    start = time()\n",
    "    y_pred = clf.predict(features)\n",
    "    end = time()\n",
    "    \n",
    "    # return results\n",
    "    return [f1_score(target.values, y_pred, pos_label='yes'),end - start]\n",
    "\n",
    "#add an accuracy measure\n",
    "def getAcc(clf, features, target):\n",
    "    from sklearn.metrics import accuracy_score\n",
    "    y_pred = clf.predict(features)\n",
    "    return accuracy_score(target.values, y_pred)\n",
    "\n",
    "#add \n",
    "def conf(clf, features, target):\n",
    "    from sklearn.metrics import confusion_matrix\n",
    "    y_pred = clf.predict(features)\n",
    "    return confusion_matrix(target.values, y_pred)\n",
    " \n",
    "def train_predict(clf, X_train, y_train, X_test, y_test):\n",
    "    ''' Train and predict using a classifer based on F1 score. '''\n",
    "    \n",
    "    # Indicate the classifier and the training set size\n",
    "    print \"Training a {} using a training set size of {}. . .\".format(clf.__class__.__name__, len(X_train))\n",
    "    \n",
    "    # Train the classifier\n",
    "    train_classifier(clf, X_train, y_train)\n",
    "    \n",
    "    # Print the results of prediction for both training and testing\n",
    "    print \"F1 score for training set: {:.4f}.\".format(predict_labels(clf, X_train, y_train)[0])\n",
    "    print \"Made predictions in {:.4f} seconds.\".format(predict_labels(clf, X_train, y_train)[1])\n",
    "    print \"F1 score for test set: {:.4f}.\".format(predict_labels(clf, X_test, y_test)[0])\n",
    "    print \"Made predictions in {:.4f} seconds.\".format(predict_labels(clf, X_test, y_test)[1])\n",
    "    print \"Accuracy for test set: {:.4f}.\".format(getAcc(clf, X_test, y_test))\n",
    "    #add print to output info for the tables \n",
    "    #(doing by hand would be miserable)\n",
    "    print \"| {} | {:.4f} | {:.4f} | {:.4f} | {:.4f} |  {:.4f} | \".format(\n",
    "    len(X_train), predict_labels(clf, X_train, y_train)[1],\n",
    "        predict_labels(clf, X_test, y_test)[1], \n",
    "        predict_labels(clf, X_train, y_train)[0], \n",
    "        predict_labels(clf, X_test, y_test)[0],\n",
    "        getAcc(clf, X_test, y_test))\n",
    "    print \"confusion matrix\"\n",
    "    print  conf(clf, X_test, y_test)\n",
    "    print \"=======================================================================\""
   ]
  },
  {
   "cell_type": "markdown",
   "metadata": {},
   "source": [
    "### Implementation: Model Performance Metrics\n",
    "With the predefined functions above, you will now import the three supervised learning models of your choice and run the `train_predict` function for each one. Remember that you will need to train and predict on each classifier for three different training set sizes: 100, 200, and 300. Hence, you should expect to have 9 different outputs below — 3 for each model using the varying training set sizes. In the following code cell, you will need to implement the following:\n",
    "- Import the three supervised learning models you've discussed in the previous section.\n",
    "- Initialize the three models and store them in `clf_A`, `clf_B`, and `clf_C`.\n",
    " - Use a `random_state` for each model you use, if provided.\n",
    " - **Note:** Use the default settings for each model — you will tune one specific model in a later section.\n",
    "- Create the different training set sizes to be used to train each model.\n",
    " - *Do not reshuffle and resplit the data! The new training points should be drawn from `X_train` and `y_train`.*\n",
    "- Fit each model with each training set size and make predictions on the test set (9 in total).  \n",
    "**Note:** Three tables are provided after the following code cell which can be used to store your results."
   ]
  },
  {
   "cell_type": "code",
   "execution_count": 12,
   "metadata": {
    "collapsed": false
   },
   "outputs": [
    {
     "name": "stdout",
     "output_type": "stream",
     "text": [
      "\n",
      "LogisticRegression: \n",
      "\n",
      "Training a LogisticRegression using a training set size of 100. . .\n",
      "Trained model in 0.3837 seconds\n",
      "F1 score for training set: 0.8136.\n",
      "Made predictions in 0.0005 seconds.\n",
      "F1 score for test set: 0.7097.\n",
      "Made predictions in 0.0003 seconds.\n",
      "Accuracy for test set: 0.6211.\n",
      "| 100 | 0.0003 | 0.0003 | 0.8136 | 0.7097 |  0.6211 | \n",
      "confusion matrix\n",
      "[[15 14]\n",
      " [22 44]]\n",
      "=======================================================================\n",
      "Training a LogisticRegression using a training set size of 200. . .\n",
      "Trained model in 0.0041 seconds\n",
      "F1 score for training set: 0.8033.\n",
      "Made predictions in 0.0004 seconds.\n",
      "F1 score for test set: 0.7231.\n",
      "Made predictions in 0.0004 seconds.\n",
      "Accuracy for test set: 0.6211.\n",
      "| 200 | 0.0004 | 0.0004 | 0.8033 | 0.7231 |  0.6211 | \n",
      "confusion matrix\n",
      "[[12 17]\n",
      " [19 47]]\n",
      "=======================================================================\n",
      "Training a LogisticRegression using a training set size of 300. . .\n",
      "Trained model in 0.0053 seconds\n",
      "F1 score for training set: 0.8094.\n",
      "Made predictions in 0.0003 seconds.\n",
      "F1 score for test set: 0.7287.\n",
      "Made predictions in 0.0003 seconds.\n",
      "Accuracy for test set: 0.6316.\n",
      "| 300 | 0.0003 | 0.0003 | 0.8094 | 0.7287 |  0.6316 | \n",
      "confusion matrix\n",
      "[[13 16]\n",
      " [19 47]]\n",
      "=======================================================================\n",
      "\n",
      "DecisionTreeClassifier: \n",
      "\n",
      "Training a DecisionTreeClassifier using a training set size of 100. . .\n",
      "Trained model in 0.0017 seconds\n",
      "F1 score for training set: 1.0000.\n",
      "Made predictions in 0.0003 seconds.\n",
      "F1 score for test set: 0.7259.\n",
      "Made predictions in 0.0003 seconds.\n",
      "Accuracy for test set: 0.6105.\n",
      "| 100 | 0.0003 | 0.0003 | 1.0000 | 0.7259 |  0.6105 | \n",
      "confusion matrix\n",
      "[[ 9 20]\n",
      " [17 49]]\n",
      "=======================================================================\n",
      "Training a DecisionTreeClassifier using a training set size of 200. . .\n",
      "Trained model in 0.0024 seconds\n",
      "F1 score for training set: 1.0000.\n",
      "Made predictions in 0.0003 seconds.\n",
      "F1 score for test set: 0.7438.\n",
      "Made predictions in 0.0002 seconds.\n",
      "Accuracy for test set: 0.6737.\n",
      "| 200 | 0.0003 | 0.0003 | 1.0000 | 0.7438 |  0.6737 | \n",
      "confusion matrix\n",
      "[[19 10]\n",
      " [21 45]]\n",
      "=======================================================================\n",
      "Training a DecisionTreeClassifier using a training set size of 300. . .\n",
      "Trained model in 0.0029 seconds\n",
      "F1 score for training set: 1.0000.\n",
      "Made predictions in 0.0003 seconds.\n",
      "F1 score for test set: 0.7656.\n",
      "Made predictions in 0.0002 seconds.\n",
      "Accuracy for test set: 0.6842.\n",
      "| 300 | 0.0003 | 0.0002 | 1.0000 | 0.7656 |  0.6842 | \n",
      "confusion matrix\n",
      "[[16 13]\n",
      " [17 49]]\n",
      "=======================================================================\n",
      "\n",
      "RandomForestClassifier: \n",
      "\n",
      "Training a RandomForestClassifier using a training set size of 100. . .\n",
      "Trained model in 0.0274 seconds\n",
      "F1 score for training set: 0.9921.\n",
      "Made predictions in 0.0023 seconds.\n",
      "F1 score for test set: 0.8085.\n",
      "Made predictions in 0.0021 seconds.\n",
      "Accuracy for test set: 0.7158.\n",
      "| 100 | 0.0016 | 0.0017 | 0.9921 | 0.8085 |  0.7158 | \n",
      "confusion matrix\n",
      "[[11 18]\n",
      " [ 9 57]]\n",
      "=======================================================================\n",
      "Training a RandomForestClassifier using a training set size of 200. . .\n",
      "Trained model in 0.0221 seconds\n",
      "F1 score for training set: 1.0000.\n",
      "Made predictions in 0.0011 seconds.\n",
      "F1 score for test set: 0.8000.\n",
      "Made predictions in 0.0010 seconds.\n",
      "Accuracy for test set: 0.6947.\n",
      "| 200 | 0.0011 | 0.0010 | 1.0000 | 0.8000 |  0.6947 | \n",
      "confusion matrix\n",
      "[[ 8 21]\n",
      " [ 8 58]]\n",
      "=======================================================================\n",
      "Training a RandomForestClassifier using a training set size of 300. . .\n",
      "Trained model in 0.0495 seconds\n",
      "F1 score for training set: 0.9924.\n",
      "Made predictions in 0.0013 seconds.\n",
      "F1 score for test set: 0.7442.\n",
      "Made predictions in 0.0010 seconds.\n",
      "Accuracy for test set: 0.6526.\n",
      "| 300 | 0.0012 | 0.0010 | 0.9924 | 0.7442 |  0.6526 | \n",
      "confusion matrix\n",
      "[[14 15]\n",
      " [18 48]]\n",
      "=======================================================================\n",
      "\n",
      "SVC: \n",
      "\n",
      "Training a SVC using a training set size of 100. . .\n",
      "Trained model in 0.0022 seconds\n",
      "F1 score for training set: 0.9077.\n",
      "Made predictions in 0.0015 seconds.\n",
      "F1 score for test set: 0.7597.\n",
      "Made predictions in 0.0014 seconds.\n",
      "Accuracy for test set: 0.6737.\n",
      "| 100 | 0.0015 | 0.0014 | 0.9077 | 0.7597 |  0.6737 | \n",
      "confusion matrix\n",
      "[[15 14]\n",
      " [17 49]]\n",
      "=======================================================================\n",
      "Training a SVC using a training set size of 200. . .\n",
      "Trained model in 0.0062 seconds\n",
      "F1 score for training set: 0.8939.\n",
      "Made predictions in 0.0050 seconds.\n",
      "F1 score for test set: 0.7752.\n",
      "Made predictions in 0.0025 seconds.\n",
      "Accuracy for test set: 0.6947.\n",
      "| 200 | 0.0050 | 0.0025 | 0.8939 | 0.7752 |  0.6947 | \n",
      "confusion matrix\n",
      "[[16 13]\n",
      " [16 50]]\n",
      "=======================================================================\n",
      "Training a SVC using a training set size of 300. . .\n",
      "Trained model in 0.0136 seconds\n",
      "F1 score for training set: 0.8399.\n",
      "Made predictions in 0.0109 seconds.\n",
      "F1 score for test set: 0.7273.\n",
      "Made predictions in 0.0035 seconds.\n",
      "Accuracy for test set: 0.6526.\n",
      "| 300 | 0.0109 | 0.0035 | 0.8399 | 0.7273 |  0.6526 | \n",
      "confusion matrix\n",
      "[[18 11]\n",
      " [22 44]]\n",
      "=======================================================================\n",
      "\n",
      "AdaBoostClassifier: \n",
      "\n",
      "Training a AdaBoostClassifier using a training set size of 100. . .\n",
      "Trained model in 0.0026 seconds\n",
      "F1 score for training set: 1.0000.\n",
      "Made predictions in 0.0003 seconds.\n",
      "F1 score for test set: 0.7313.\n",
      "Made predictions in 0.0003 seconds.\n",
      "Accuracy for test set: 0.6211.\n",
      "| 100 | 0.0003 | 0.0003 | 1.0000 | 0.7313 |  0.6211 | \n",
      "confusion matrix\n",
      "[[10 19]\n",
      " [17 49]]\n",
      "=======================================================================\n",
      "Training a AdaBoostClassifier using a training set size of 200. . .\n",
      "Trained model in 0.0032 seconds\n",
      "F1 score for training set: 1.0000.\n",
      "Made predictions in 0.0003 seconds.\n",
      "F1 score for test set: 0.7520.\n",
      "Made predictions in 0.0003 seconds.\n",
      "Accuracy for test set: 0.6737.\n",
      "| 200 | 0.0003 | 0.0003 | 1.0000 | 0.7520 |  0.6737 | \n",
      "confusion matrix\n",
      "[[17 12]\n",
      " [19 47]]\n",
      "=======================================================================\n",
      "Training a AdaBoostClassifier using a training set size of 300. . .\n",
      "Trained model in 0.0035 seconds\n",
      "F1 score for training set: 1.0000.\n",
      "Made predictions in 0.0004 seconds.\n",
      "F1 score for test set: 0.7704.\n",
      "Made predictions in 0.0003 seconds.\n",
      "Accuracy for test set: 0.6737.\n",
      "| 300 | 0.0005 | 0.0004 | 1.0000 | 0.7704 |  0.6737 | \n",
      "confusion matrix\n",
      "[[12 17]\n",
      " [14 52]]\n",
      "=======================================================================\n"
     ]
    }
   ],
   "source": [
    "#Import libs\n",
    "from sklearn.linear_model import LogisticRegression\n",
    "from sklearn import tree, svm\n",
    "from sklearn.ensemble import RandomForestClassifier, AdaBoostClassifier\n",
    "\n",
    "# Initialize Logit\n",
    "clf_A = LogisticRegression(class_weight='balanced', random_state=11)\n",
    "\n",
    "# Initialize dec tree\n",
    "clf_B = tree.DecisionTreeClassifier(random_state=11, class_weight='balanced')\n",
    "\n",
    "# Initialize Random Forest\n",
    "clf_C = RandomForestClassifier(random_state=11, class_weight='balanced')\n",
    "\n",
    "#initialize svm\n",
    "clf_E = svm.SVC(class_weight='balanced', random_state=11)\n",
    "\n",
    "# Inititalize Dec Tree with Adaboost (Boosting)\n",
    "clf_F= AdaBoostClassifier( base_estimator = clf_B, random_state=11)\n",
    "\n",
    "# Because they are already randomnized from tet split function just take subset\n",
    "X_train_100 = X_train[0:100]\n",
    "y_train_100 = y_train[0:100]\n",
    "\n",
    "X_train_200 = X_train[0:200]\n",
    "y_train_200 = y_train[0:200]\n",
    "\n",
    "X_train_300 = X_train\n",
    "y_train_300 = y_train\n",
    "\n",
    "# 'train_predict' function for each classifier and each training set size\n",
    "for clf in [clf_A, clf_B, clf_C, clf_E, clf_F]:\n",
    "    print \"\\n{}: \\n\".format(clf.__class__.__name__)\n",
    "    for n in [100, 200, 300]:\n",
    "        train_predict(clf, X_train[:n], y_train[:n], X_test, y_test)"
   ]
  },
  {
   "cell_type": "markdown",
   "metadata": {},
   "source": [
    "### Tabular Results\n",
    "Edit the cell below to see how a table can be designed in [Markdown](https://github.com/adam-p/markdown-here/wiki/Markdown-Cheatsheet#tables). You can record your results from above in the tables provided."
   ]
  },
  {
   "cell_type": "markdown",
   "metadata": {},
   "source": [
    "I added two extras for fun!\n",
    "\n",
    "** Classifer 1 - Logit**  \n",
    "\n",
    "| Training Set Size | Prediction Time (train) | Prediction Time (test) | F1 Score (train) | F1 Score (test) | Accuracy (test)| # NonGrad Pred. (Test)|\n",
    "| :---------------: | :---------------------: | :--------------------: | :--------------: | :-------------: | :-------------: | :-------------: |\n",
    "| 100 | 0.0003 | 0.0003 | 0.8136 | 0.7097 |  0.6211 | 15 |\n",
    "| 200 | 0.0004 | 0.0004 | 0.8033 | 0.7231 |  0.6211 | 12 |\n",
    "| 300 | 0.0003 | 0.0003 | 0.8094 | 0.7287 |  0.6316 | 13 |\n",
    "\n",
    "\n",
    "** Classifer 2 - Dec Tree** \n",
    "\n",
    "| Training Set Size | Prediction Time (train) | Prediction Time (test) | F1 Score (train) | F1 Score (test) | Accuracy (test)| # NonGrad Pred. (Test)|\n",
    "| :---------------: | :---------------------: | :--------------------: | :--------------: | :-------------: | :-------------: | :-------------: |\n",
    "| 100 | 0.0003 | 0.0003 | 1.0000 | 0.7259 |  0.6105 | 9 |\n",
    "| 200 | 0.0003 | 0.0003 | 1.0000 | 0.7438 |  0.6737 | 19 |\n",
    "| 300 | 0.0003 | 0.0002 | 1.0000 | 0.7656 |  0.6842 | 16 |\n",
    "\n",
    "\n",
    "** Classifer 3 - Random Forest**  \n",
    "\n",
    "| Training Set Size | Prediction Time (train) | Prediction Time (test) | F1 Score (train) | F1 Score (test) | Accuracy (test)| # NonGrad Pred. (Test)|\n",
    "| :---------------: | :---------------------: | :--------------------: | :--------------: | :-------------: | :-------------: | :-------------: |\n",
    "| 100 | 0.0016 | 0.0017 | 0.9921 | 0.8085 |  0.7158 |  11 |\n",
    "| 200 | 0.0011 | 0.0010 | 1.0000 | 0.8000 |  0.6947 | 8 |\n",
    "| 300 | 0.0012 | 0.0010 | 0.9924 | 0.7442 |  0.6526 | 14 |\n",
    "\n",
    "\n",
    "** Classifer 4 - SVM** \n",
    "\n",
    "| Training Set Size | Prediction Time (train) | Prediction Time (test) | F1 Score (train) | F1 Score (test) | Accuracy (test)| # NonGrad Pred. (Test)|\n",
    "| :---------------: | :---------------------: | :--------------------: | :--------------: | :-------------: | :-------------: | :-------------: |\n",
    "| 100 | 0.0015 | 0.0014 | 0.9077 | 0.7597 |  0.6737 | 15 |\n",
    "| 200 | 0.0050 | 0.0025 | 0.8939 | 0.7752 |  0.6947 | 16 |\n",
    "| 300 | 0.0109 | 0.0035 | 0.8399 | 0.7273 |  0.6526 | 18 |\n",
    "\n",
    "\n",
    "** Classifer 5 - Dec Tree w/ Adaboost**  \n",
    "\n",
    "| Training Set Size | Prediction Time (train) | Prediction Time (test) | F1 Score (train) | F1 Score (test) | Accuracy (test)| # NonGrad Pred. (Test)|\n",
    "| :---------------: | :---------------------: | :--------------------: | :--------------: | :-------------: | :-------------: | :-------------: |\n",
    "| 100 | 0.0003 | 0.0003 | 1.0000 | 0.7313 |  0.6211 | 10 |\n",
    "| 200 | 0.0003 | 0.0003 | 1.0000 | 0.7520 |  0.6737 | 17 |\n",
    "| 300 | 0.0005 | 0.0004 | 1.0000 | 0.7704 |  0.6737 | 12 |\n"
   ]
  },
  {
   "cell_type": "markdown",
   "metadata": {},
   "source": [
    "## Choosing the Best Model\n",
    "In this final section, you will choose from the three supervised learning models the *best* model to use on the student data. You will then perform a grid search optimization for the model over the entire training set (`X_train` and `y_train`) by tuning at least one parameter to improve upon the untuned model's F<sub>1</sub> score. "
   ]
  },
  {
   "cell_type": "markdown",
   "metadata": {},
   "source": [
    "### Question 3 - Chosing the Best Model\n",
    "*Based on the experiments you performed earlier, in one to two paragraphs, explain to the board of supervisors what single model you chose as the best model. Which model is generally the most appropriate based on the available data, limited resources, cost, and performance?*"
   ]
  },
  {
   "cell_type": "markdown",
   "metadata": {},
   "source": [
    "**Answer: **\n",
    "\n",
    "I mentioned earlier, it is important to understand what it is we actaully want to predict. In an ideal world we would like to predict both those that will and won't graduate perfectly. Unfurtunately, the data seems to not lend itslef well to that outcome. Because of this, we need to realize that we want to do well in both, but care more about (should put emphaisis on) predicting those who will drop out. The goal is to get 95% graduation rate; to do that, we need to intervene with those that would drop out. And if we accidently label some who would of graduated as dropouts, giving them some extra facetime surely wouldn't hurt (only waste some man hours). Therefore, I begin by saying it is important for which ever model we chose that it does well on predicting those that won't grduate. \n",
    "\n",
    "Now the best model at doing this on the test set is Support Vector Machines. Against Logistic, Random Forest, and ADA, on all three training sizes the SVM predicts the most number of dropouts correctly. The only one that somewhat competes on this metric is the Decision Tree, but it doesn't do this conisistly. Only on the 200 training set is it superior, and adding more points only makes it worse. I also fear the decision tree's overfitting.\n",
    "\n",
    "Now on other metrics- F1 and Accuracy- SVM performs a little better or slightly worse across different training set sizes. Yet, as mentioned previously, we should put emphasis on predicting droptouts; therefore SVM performs close on enough to the others to not be concerned.\n",
    "\n",
    "The only thing the SVM performs poorly on (and this is expected) is time related metrics. But since the data set is small, it shouldn't be a concern. Even if we add in a few more years of data, just two schools wouldn't be an issue. \n",
    "\n",
    "<b> Winner:</b> SVM"
   ]
  },
  {
   "cell_type": "markdown",
   "metadata": {},
   "source": [
    "### Question 4 - Model in Layman's Terms\n",
    "*In one to two paragraphs, explain to the board of directors in layman's terms how the final model chosen is supposed to work. For example if you've chosen to use a decision tree or a support vector machine, how does the model go about making a prediction?*"
   ]
  },
  {
   "cell_type": "markdown",
   "metadata": {},
   "source": [
    "**Answer: **\n",
    "\n",
    "The model chosen is called support vector machines. Without getting overly technical, the model is going to use various information the school collects/has on students and put that data into a useable format. The model can use all the data the school has; data could be things like tardiness, family size, gpa, etc. Using historic data with information on students that graduated and dropped out, we can learn a model. \n",
    "\n",
    "Lets call all the data about a student the features and the specific question of wheter they dropped out the target. To explain how the model learns, let's look at a simple case where the school just has two features: Hours spent on HW, GPA and the target. We now put Hours spent on HW and GPAs of students on a simple coordinate plane with the students that graudated as red points and the students that droped out as green points. \n",
    "\n",
    "<img src=\"svmex.png\" alt=\"line\" style=\"width:400px;height:300px;\">\n",
    "\n",
    "After seeing it, one could simply put a line to seperate those that dropped out as opposed to graduated. However, many lines could be drawn to create the seperation. In SVM, we put an optimal line that is a line that creates as much space between the points on both side of the line as possible. This space is called the margin, and SVM always maximizes it.\n",
    "\n",
    "Now for our case, SVM is like this, but in many dimensions (therefore it can deal with all the features we have on students) and draws a hyperplane as opposed to a line. Therefore, simply put, SVM finds a way to seperate the data geometrically on historical data. When new data is plotted, if you are to oneside of a line (hyperplane) you are predicted to do A and if on the other side you are predicted to do B.\n",
    "\n",
    "Additionally, some times the data is not easily seperable. SVM can deal with this in two ways. One way is allowing a small amount of errors, that is allowing wrong labels to be on the wrong side of the line/hyperplane and just minimzes the amount of times this happens. The other is called the kernel trick. This is a trick where we take already existing features, like GPA, Hours spent HW, etc and combine them together to make new features. These new features can be created in many different ways (almost anykind of function), and I won't go into it. The point is, the new feauture adds a new dimension to the data, and now the data maybe more easily seperated. \n",
    "\n",
    "As an aside) To try and help one understand (how adding a dimension can help get seperation), imagine we have just a number line from 1 to 10. And we have 2 points both plotted at 5. Obviosuly no seperation exists, but now imagine we add a y axis and both of the points have another feature. And there coordinates are 5,10 and 5,0. Now, we can see that we can easily seperate the points in 2 dimensions. A kernel trick can helps us do this in SVM, but instead of a new feature being magically revealed, other features in the data are combined in a way to create the new feature. One example may be something like X^2+Y^2.\n",
    "\n",
    "Anway, once the model is taught with the historic data, all a school employeee would need to do is feed the data to the model and the model would return whether or not a studnet is predicted to graduate or not. "
   ]
  },
  {
   "cell_type": "markdown",
   "metadata": {},
   "source": [
    "### Implementation: Model Tuning\n",
    "Fine tune the chosen model. Use grid search (`GridSearchCV`) with at least one important parameter tuned with at least 3 different values. You will need to use the entire training set for this. In the code cell below, you will need to implement the following:\n",
    "- Import [`sklearn.grid_search.gridSearchCV`](http://scikit-learn.org/stable/modules/generated/sklearn.grid_search.GridSearchCV.html) and [`sklearn.metrics.make_scorer`](http://scikit-learn.org/stable/modules/generated/sklearn.metrics.make_scorer.html).\n",
    "- Create a dictionary of parameters you wish to tune for the chosen model.\n",
    " - Example: `parameters = {'parameter' : [list of values]}`.\n",
    "- Initialize the classifier you've chosen and store it in `clf`.\n",
    "- Create the F<sub>1</sub> scoring function using `make_scorer` and store it in `f1_scorer`.\n",
    " - Set the `pos_label` parameter to the correct value!\n",
    "- Perform grid search on the classifier `clf` using `f1_scorer` as the scoring method, and store it in `grid_obj`.\n",
    "- Fit the grid search object to the training data (`X_train`, `y_train`), and store it in `grid_obj`."
   ]
  },
  {
   "cell_type": "code",
   "execution_count": 14,
   "metadata": {
    "collapsed": false
   },
   "outputs": [
    {
     "name": "stdout",
     "output_type": "stream",
     "text": [
      "Tuned model has a training F1 score of 0.8437.\n",
      "Tuned model has a testing F1 score of 0.8148.\n",
      "Accuracy for test set: 0.7368.\n"
     ]
    }
   ],
   "source": [
    "# Import 'gridSearchCV' and 'make_scorer'\n",
    "from sklearn import grid_search\n",
    "from sklearn.metrics import make_scorer\n",
    "\n",
    "\n",
    "# Create the parameters list you wish to tune \n",
    "parameters = {'kernel':('linear', 'poly', 'rbf', 'sigmoid'), \n",
    "              'C': [1e-5, 1e-2, 1e-1, 1, 10], \n",
    "              'tol': [1e-1, 1e-2, 1e-3, 1e-4, 1e-5]}\n",
    "\n",
    "#  Initialize the classifier\n",
    "clf = svm.SVC(class_weight='balanced', random_state=11)\n",
    "\n",
    "# TODO: Make an f1 scoring function using 'make_scorer' \n",
    "f1_scorer = make_scorer(f1_score)\n",
    "\n",
    "# Perform grid search on the classifier using the f1_scorer as the scoring method\n",
    "# just 3 fold\n",
    "grid_obj = grid_search.GridSearchCV(clf, parameters, \n",
    "                                    error_score=f1_scorer)\n",
    "\n",
    "# Fit the grid search object to the training data and find the optimal parameters\n",
    "grid_obj = grid_obj.fit(X_train, y_train)\n",
    "\n",
    "\n",
    "# Get the estimator\n",
    "clf = grid_obj.best_estimator_\n",
    "\n",
    "# Report the final F1 score for training and testing after parameter tuning\n",
    "print \"Tuned model has a training F1 score of {:.4f}.\".format(predict_labels(clf, X_train, y_train)[0])\n",
    "print \"Tuned model has a testing F1 score of {:.4f}.\".format(predict_labels(clf, X_test, y_test)[0])\n",
    "print \"Accuracy for test set: {:.4f}.\".format(getAcc(clf, X_test, y_test))"
   ]
  },
  {
   "cell_type": "code",
   "execution_count": 15,
   "metadata": {
    "collapsed": false
   },
   "outputs": [
    {
     "name": "stdout",
     "output_type": "stream",
     "text": [
      "Training a SVC using a training set size of 300. . .\n",
      "Trained model in 0.0127 seconds\n",
      "F1 score for training set: 0.8437.\n",
      "Made predictions in 0.0061 seconds.\n",
      "F1 score for test set: 0.8148.\n",
      "Made predictions in 0.0021 seconds.\n",
      "Accuracy for test set: 0.7368.\n",
      "| 300 | 0.0058 | 0.0021 | 0.8437 | 0.8148 |  0.7368 | \n",
      "confusion matrix\n",
      "[[15 14]\n",
      " [11 55]]\n",
      "=======================================================================\n"
     ]
    }
   ],
   "source": [
    "#get same stuff as first time\n",
    "train_predict(clf, X_train_300, y_train_300, X_test, y_test)"
   ]
  },
  {
   "cell_type": "code",
   "execution_count": 16,
   "metadata": {
    "collapsed": false
   },
   "outputs": [
    {
     "name": "stdout",
     "output_type": "stream",
     "text": [
      "<bound method SVC.get_params of SVC(C=0.01, cache_size=200, class_weight='balanced', coef0=0.0,\n",
      "  decision_function_shape=None, degree=3, gamma='auto', kernel='poly',\n",
      "  max_iter=-1, probability=False, random_state=11, shrinking=True,\n",
      "  tol=0.01, verbose=False)>\n"
     ]
    }
   ],
   "source": [
    "#get parameters\n",
    "print clf.get_params"
   ]
  },
  {
   "cell_type": "markdown",
   "metadata": {},
   "source": [
    "### Question 5 - Final F<sub>1</sub> Score\n",
    "*What is the final model's F<sub>1</sub> score for training and testing? How does that score compare to the untuned model?*"
   ]
  },
  {
   "cell_type": "markdown",
   "metadata": {},
   "source": [
    "**Answer: **\n",
    "\n",
    "Untuned SVM 300 Obs in Train Set\n",
    "\n",
    "| Training Set Size | Prediction Time (train) | Prediction Time (test) | F1 Score (train) | F1 Score (test) | Accuracy (test)| # NonGrad Pred. (Test)|\n",
    "| :---------------: | :---------------------: | :--------------------: | :--------------: | :-------------: | :-------------: | :-------------: |\n",
    "| 300 | 0.0109 | 0.0035 | 0.8399 | 0.7273 |  0.6526 | 18 |\n",
    "\n",
    "Tuned SVM 300 Obs in Train Set\n",
    "\n",
    "| Training Set Size | Prediction Time (train) | Prediction Time (test) | F1 Score (train) | F1 Score (test) | Accuracy (test)| # NonGrad Pred. (Test)|\n",
    "| :---------------: | :---------------------: | :--------------------: | :--------------: | :-------------: | :-------------: | :-------------: |\n",
    "| 300 | 0.0058 | 0.0021 | 0.8437 | 0.8148 |  0.7368 | 15 |\n",
    "\n",
    "Well, as expected, the tuned model's F1 score on the training set is higher. This is expected because we are optimizing with respect to this score in the grid search. This optimization (grid search) has worked very well for us on most measures. The F1 on the test has drastically increased, the overall accuracy has gone up and prediction times have decreased. The only concern I have, and its hard to say much about because of the small number of observations, but this tuned SVM predicts a smaller number of drop outs correctly on the tet set than the untuned model. \n",
    "\n",
    "Anyway, if we wanted to address that we could change the score we use in grid search to specifically optimize the number of correctly identified dropouts as oposed to the F_1 score. Note this would be maximizing the Specificity (When we predict dropout, is dropout) or minimizing the the false positive rate (When its actually a dropout, we predict graduate)."
   ]
  },
  {
   "cell_type": "markdown",
   "metadata": {},
   "source": [
    "> **Note**: Once you have completed all of the code implementations and successfully answered each question above, you may finalize your work by exporting the iPython Notebook as an HTML document. You can do this by using the menu above and navigating to  \n",
    "**File -> Download as -> HTML (.html)**. Include the finished document along with this notebook as your submission."
   ]
  }
 ],
 "metadata": {
  "kernelspec": {
   "display_name": "Python 2",
   "language": "python",
   "name": "python2"
  },
  "language_info": {
   "codemirror_mode": {
    "name": "ipython",
    "version": 2
   },
   "file_extension": ".py",
   "mimetype": "text/x-python",
   "name": "python",
   "nbconvert_exporter": "python",
   "pygments_lexer": "ipython2",
   "version": "2.7.11"
  }
 },
 "nbformat": 4,
 "nbformat_minor": 0
}
